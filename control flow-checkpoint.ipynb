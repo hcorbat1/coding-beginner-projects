{
 "cells": [
  {
   "cell_type": "code",
   "execution_count": 1,
   "id": "05156360-317c-4dae-9544-9baf73272f0b",
   "metadata": {},
   "outputs": [
    {
     "data": {
      "text/plain": [
       "True"
      ]
     },
     "execution_count": 1,
     "metadata": {},
     "output_type": "execute_result"
    }
   ],
   "source": [
    "isinstance(3,int)\n"
   ]
  },
  {
   "cell_type": "code",
   "execution_count": 2,
   "id": "9456602c-a546-44d1-ba50-ea46cf3f1eff",
   "metadata": {},
   "outputs": [
    {
     "data": {
      "text/plain": [
       "16"
      ]
     },
     "execution_count": 2,
     "metadata": {},
     "output_type": "execute_result"
    }
   ],
   "source": [
    "pow(2,4)\n"
   ]
  },
  {
   "cell_type": "code",
   "execution_count": 3,
   "id": "db00d8b8-9f2b-48ab-90af-76ba3e18867c",
   "metadata": {},
   "outputs": [
    {
     "data": {
      "text/plain": [
       "16"
      ]
     },
     "execution_count": 3,
     "metadata": {},
     "output_type": "execute_result"
    }
   ],
   "source": [
    "2**4\n"
   ]
  },
  {
   "cell_type": "code",
   "execution_count": 4,
   "id": "c65333f6-f3cd-4502-8bc5-64b840b7b725",
   "metadata": {},
   "outputs": [
    {
     "data": {
      "text/plain": [
       "0"
      ]
     },
     "execution_count": 4,
     "metadata": {},
     "output_type": "execute_result"
    }
   ],
   "source": [
    "pow(2,4,2)"
   ]
  },
  {
   "cell_type": "code",
   "execution_count": 5,
   "id": "cd162831-2b25-4ea8-be10-e4c0b3677914",
   "metadata": {},
   "outputs": [
    {
     "data": {
      "text/plain": [
       "2"
      ]
     },
     "execution_count": 5,
     "metadata": {},
     "output_type": "execute_result"
    }
   ],
   "source": [
    "pow(2,4,7)"
   ]
  },
  {
   "cell_type": "code",
   "execution_count": 6,
   "id": "cb6af775-554a-478f-899c-ce5d4b36c4bf",
   "metadata": {},
   "outputs": [
    {
     "name": "stdin",
     "output_type": "stream",
     "text": [
      "Enter a number:  56\n"
     ]
    }
   ],
   "source": [
    "x = input(\"Enter a number: \")"
   ]
  },
  {
   "cell_type": "code",
   "execution_count": 7,
   "id": "99988137-8147-4278-9562-29c9050b7af2",
   "metadata": {},
   "outputs": [
    {
     "data": {
      "text/plain": [
       "str"
      ]
     },
     "execution_count": 7,
     "metadata": {},
     "output_type": "execute_result"
    }
   ],
   "source": [
    "type(x)"
   ]
  },
  {
   "cell_type": "code",
   "execution_count": 8,
   "id": "e38083d9-7fc2-4e6c-bdee-7948cb2cfe1b",
   "metadata": {},
   "outputs": [],
   "source": [
    "x = int(x)"
   ]
  },
  {
   "cell_type": "code",
   "execution_count": 9,
   "id": "d34f9d0d-5fed-4393-8666-cc65c0d33efe",
   "metadata": {},
   "outputs": [
    {
     "data": {
      "text/plain": [
       "int"
      ]
     },
     "execution_count": 9,
     "metadata": {},
     "output_type": "execute_result"
    }
   ],
   "source": [
    "type(x)"
   ]
  },
  {
   "cell_type": "code",
   "execution_count": 10,
   "id": "46a0946a-c857-4e9c-8dbd-cd4359c16ce3",
   "metadata": {},
   "outputs": [
    {
     "name": "stdout",
     "output_type": "stream",
     "text": [
      "32\n"
     ]
    }
   ],
   "source": [
    "print(x-24)"
   ]
  },
  {
   "cell_type": "code",
   "execution_count": 11,
   "id": "3a324553-e0de-4e2d-b4db-e95c270bd139",
   "metadata": {},
   "outputs": [
    {
     "name": "stdin",
     "output_type": "stream",
     "text": [
      "Enter a real number:  12.5\n"
     ]
    }
   ],
   "source": [
    "a = float(input(\"Enter a real number: \"))\n"
   ]
  },
  {
   "cell_type": "code",
   "execution_count": 12,
   "id": "eeafb4b7-99b7-4cf8-8f15-71b20288888e",
   "metadata": {},
   "outputs": [
    {
     "data": {
      "text/plain": [
       "float"
      ]
     },
     "execution_count": 12,
     "metadata": {},
     "output_type": "execute_result"
    }
   ],
   "source": [
    "type(a)\n"
   ]
  },
  {
   "cell_type": "code",
   "execution_count": 36,
   "id": "9cb619f9-d6d5-4afa-b1b6-32fd2e34307c",
   "metadata": {},
   "outputs": [
    {
     "name": "stdout",
     "output_type": "stream",
     "text": [
      "700 and 700 are equal\n"
     ]
    }
   ],
   "source": [
    "def bignumberonly(a,b):\n",
    "    if b > a:\n",
    "        print(f'{b} is greater than {a}')\n",
    "    elif a == b:\n",
    "        print(f'{a} and {b} are equal')\n",
    "    else:\n",
    "        print(f'{a} is greater than {b}')\n",
    "\n",
    "bignumberonly(700,700)\n"
   ]
  },
  {
   "cell_type": "code",
   "execution_count": 42,
   "id": "5df67038-e9c9-4743-98a9-1ee70f1238d8",
   "metadata": {},
   "outputs": [
    {
     "name": "stdin",
     "output_type": "stream",
     "text": [
      "Enter your first number:  700\n",
      "Enter your second number:  700\n"
     ]
    },
    {
     "name": "stdout",
     "output_type": "stream",
     "text": [
      "700 and 700 are equal\n"
     ]
    }
   ],
   "source": [
    "a = int(input(\"Enter your first number: \"))\n",
    "b = int(input(\"Enter your second number: \"))\n",
    "if b > a:\n",
    "    print(f'{b} is greater than {a}')\n",
    "elif a == b:\n",
    "    print(f'{a} and {b} are equal')\n",
    "else:\n",
    "    print(f'{a} is greater than {b}')\n",
    "    "
   ]
  },
  {
   "cell_type": "code",
   "execution_count": null,
   "id": "6cf6bac2-f399-4a6f-bb4f-4a794841a5b6",
   "metadata": {},
   "outputs": [],
   "source": []
  },
  {
   "cell_type": "code",
   "execution_count": null,
   "id": "d30fbec2-a70c-4f63-98ad-655ecfa66ef5",
   "metadata": {},
   "outputs": [],
   "source": []
  }
 ],
 "metadata": {
  "kernelspec": {
   "display_name": "Python 3 (ipykernel)",
   "language": "python",
   "name": "python3"
  },
  "language_info": {
   "codemirror_mode": {
    "name": "ipython",
    "version": 3
   },
   "file_extension": ".py",
   "mimetype": "text/x-python",
   "name": "python",
   "nbconvert_exporter": "python",
   "pygments_lexer": "ipython3",
   "version": "3.12.7"
  }
 },
 "nbformat": 4,
 "nbformat_minor": 5
}
